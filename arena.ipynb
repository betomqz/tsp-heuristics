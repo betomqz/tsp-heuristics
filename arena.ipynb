{
 "cells": [
  {
   "cell_type": "code",
   "execution_count": null,
   "metadata": {},
   "outputs": [],
   "source": [
    "import numpy as np\n",
    "import utils\n",
    "from tspheuristics import NearestNeigbour, GenAlgo, LinProg, TabuSearch\n",
    "import time"
   ]
  },
  {
   "cell_type": "code",
   "execution_count": null,
   "metadata": {},
   "outputs": [],
   "source": [
    "# Probar con todas las intancias.\n",
    "for filename in [\"Inst70.txt\"]: #[\"Inst29.txt\", \"Inst48.txt\", \"Inst51.txt\", \"Inst52.txt\"]:    \n",
    "    cities = utils.read_instance(filename)\n",
    "    tsp_inst = utils.dist_mat(cities)\n",
    "\n",
    "    # gen = GenAlgo(tsp_inst, pop_size=len(cities)*2)\n",
    "    tabu = TabuSearch(tsp_inst, tabusize=20, maxiters=2000)\n",
    "\n",
    "    start = time.time_ns()\n",
    "    tabu.solve(verbose=False)\n",
    "    end = time.time_ns()\n",
    "    print(f\"Solución a instancia {filename} con Tabu: {tabu.cost}; {end-start} nanosegundos\")  \n",
    "    utils.plot_sol(cities, tabu.res, savefig=f\"tabu-{filename.replace('.txt','')}-sol.png\")  \n",
    "    \n",
    "    # start = time.time()\n",
    "    # gen.solve(verbose=False)\n",
    "    # end = time.time()\n",
    "    # print(f\"Solución a instancia {filename} con GenAlgo: {gen.cost}; {end-start} segundos\")\n",
    "    # utils.plot_sol(cities, gen.res, savefig=f\"gen-{filename.replace('.txt','')}-sol.png\")"
   ]
  },
  {
   "cell_type": "markdown",
   "metadata": {},
   "source": [
    "## Ejemplo de uso"
   ]
  },
  {
   "cell_type": "code",
   "execution_count": null,
   "metadata": {},
   "outputs": [],
   "source": [
    "cities = utils.read_instance('MidiumInstance929.txt')\n",
    "tsp_inst = utils.dist_mat(cities)"
   ]
  },
  {
   "cell_type": "code",
   "execution_count": null,
   "metadata": {},
   "outputs": [],
   "source": [
    "tabu = TabuSearch(tsp_inst, tabusize=20, maxiters=2000)"
   ]
  },
  {
   "cell_type": "code",
   "execution_count": null,
   "metadata": {},
   "outputs": [],
   "source": [
    "tabu.solve()"
   ]
  },
  {
   "cell_type": "code",
   "execution_count": null,
   "metadata": {},
   "outputs": [],
   "source": [
    "np.savetxt(\"out/gen-algo-big-instance.txt\", gen1.res)"
   ]
  },
  {
   "cell_type": "code",
   "execution_count": null,
   "metadata": {},
   "outputs": [],
   "source": [
    "utils.plot_sol(cities,gen1.res)"
   ]
  },
  {
   "cell_type": "markdown",
   "metadata": {},
   "source": [
    "# Evaluación de las instancias con programación lineal"
   ]
  },
  {
   "cell_type": "code",
   "execution_count": null,
   "metadata": {},
   "outputs": [],
   "source": [
    "inst = 'Inst48'\n",
    "cities = utils.read_instance(f'{inst}.txt')\n",
    "tsp_inst = utils.dist_mat(cities)\n",
    "mymip = LinProg(tsp_inst)"
   ]
  },
  {
   "cell_type": "code",
   "execution_count": null,
   "metadata": {},
   "outputs": [],
   "source": [
    "start = time.time()\n",
    "mymip.solve()\n",
    "end = time.time()\n",
    "print(f\"Solución a instancia {inst} con programación lineal: {mymip.cost}; {end-start} segundos\")"
   ]
  },
  {
   "cell_type": "code",
   "execution_count": null,
   "metadata": {},
   "outputs": [],
   "source": [
    "utils.plot_sol(cities, mymip.res, savefig=f\"lp-{inst}-sol.png\")"
   ]
  }
 ],
 "metadata": {
  "kernelspec": {
   "display_name": "tsp-env",
   "language": "python",
   "name": "python3"
  },
  "language_info": {
   "codemirror_mode": {
    "name": "ipython",
    "version": 3
   },
   "file_extension": ".py",
   "mimetype": "text/x-python",
   "name": "python",
   "nbconvert_exporter": "python",
   "pygments_lexer": "ipython3",
   "version": "3.11.8"
  }
 },
 "nbformat": 4,
 "nbformat_minor": 2
}
