{
 "cells": [
  {
   "cell_type": "code",
   "execution_count": 1,
   "metadata": {},
   "outputs": [],
   "source": [
    "import numpy as np\n",
    "import utils\n",
    "import os\n",
    "from tspheuristics import NearestNeigbour, GenAlgo, LinProg\n",
    "import time"
   ]
  },
  {
   "cell_type": "code",
   "execution_count": null,
   "metadata": {},
   "outputs": [],
   "source": [
    "# Probar con todas las intancias.\n",
    "for filename in os.listdir('instances/'):\n",
    "    cities = utils.read_instance(filename)\n",
    "    tsp_inst = utils.dist_mat(cities)\n",
    "\n",
    "    nn = NearestNeigbour(tsp_inst)\n",
    "    gen = GenAlgo(tsp_inst, pop_size=len(cities)*2)\n",
    "\n",
    "    start = time.time_ns()\n",
    "    nn.solve(start=0, verbose=False)\n",
    "    end = time.time_ns()\n",
    "    print(f\"Solución a instancia {filename} con NN: {nn.cost}; {end-start} nanosegundos\")    \n",
    "    \n",
    "    start = time.time()\n",
    "    gen.solve(verbose=False)\n",
    "    end = time.time()\n",
    "    print(f\"Solución a instancia {filename} con GenAlgo: {gen.cost}; {end-start} segundos\")\n",
    "    utils.plot_sol(cities, gen.res, savefig=f\"gen-{filename.replace('.txt','')}-sol.png\")"
   ]
  },
  {
   "cell_type": "markdown",
   "metadata": {},
   "source": [
    "## Ejemplo de uso"
   ]
  },
  {
   "cell_type": "code",
   "execution_count": 2,
   "metadata": {},
   "outputs": [],
   "source": [
    "cities = utils.read_instance('BigInstance22775.txt')\n",
    "tsp_inst = utils.dist_mat(cities)"
   ]
  },
  {
   "cell_type": "code",
   "execution_count": 3,
   "metadata": {},
   "outputs": [],
   "source": [
    "# nn1 = NearestNeigbour(tsp_inst)\n",
    "gen1 = GenAlgo(tsp_inst)"
   ]
  },
  {
   "cell_type": "code",
   "execution_count": null,
   "metadata": {},
   "outputs": [],
   "source": [
    "# nn1.solve(start=0)"
   ]
  },
  {
   "cell_type": "code",
   "execution_count": 4,
   "metadata": {},
   "outputs": [
    {
     "name": "stdout",
     "output_type": "stream",
     "text": [
      "Generación 0: 724650.7511674674\n"
     ]
    },
    {
     "ename": "KeyboardInterrupt",
     "evalue": "",
     "output_type": "error",
     "traceback": [
      "\u001b[1;31m---------------------------------------------------------------------------\u001b[0m",
      "\u001b[1;31mKeyboardInterrupt\u001b[0m                         Traceback (most recent call last)",
      "Cell \u001b[1;32mIn[4], line 1\u001b[0m\n\u001b[1;32m----> 1\u001b[0m \u001b[43mgen1\u001b[49m\u001b[38;5;241;43m.\u001b[39;49m\u001b[43msolve\u001b[49m\u001b[43m(\u001b[49m\u001b[43m)\u001b[49m\n\u001b[0;32m      2\u001b[0m gen1\u001b[38;5;241m.\u001b[39mcost\n",
      "File \u001b[1;32md:\\OneDrive\\Documentos\\ITAM\\10-semestre\\ido\\proyecto-01\\02-tsp\\tspheuristics.py:202\u001b[0m, in \u001b[0;36mGenAlgo.solve\u001b[1;34m(self, verbose)\u001b[0m\n\u001b[0;32m    200\u001b[0m parent2 \u001b[38;5;241m=\u001b[39m \u001b[38;5;28mself\u001b[39m\u001b[38;5;241m.\u001b[39m__population[i\u001b[38;5;241m+\u001b[39m\u001b[38;5;241m1\u001b[39m]\n\u001b[0;32m    201\u001b[0m \u001b[38;5;66;03m# Crear al hijo\u001b[39;00m\n\u001b[1;32m--> 202\u001b[0m child \u001b[38;5;241m=\u001b[39m \u001b[38;5;28;43mself\u001b[39;49m\u001b[38;5;241;43m.\u001b[39;49m\u001b[43m__crossover\u001b[49m\u001b[43m(\u001b[49m\u001b[43mparent1\u001b[49m\u001b[43m,\u001b[49m\u001b[43m \u001b[49m\u001b[43mparent2\u001b[49m\u001b[43m)\u001b[49m\n\u001b[0;32m    204\u001b[0m \u001b[38;5;66;03m# Mutar al hijo si es necesario\u001b[39;00m\n\u001b[0;32m    205\u001b[0m \u001b[38;5;28;01mif\u001b[39;00m random\u001b[38;5;241m.\u001b[39mrandom() \u001b[38;5;241m<\u001b[39m \u001b[38;5;28mself\u001b[39m\u001b[38;5;241m.\u001b[39mmutation_rate:\n",
      "File \u001b[1;32md:\\OneDrive\\Documentos\\ITAM\\10-semestre\\ido\\proyecto-01\\02-tsp\\tspheuristics.py:271\u001b[0m, in \u001b[0;36mGenAlgo.__crossover\u001b[1;34m(self, parent1, parent2)\u001b[0m\n\u001b[0;32m    268\u001b[0m \u001b[38;5;28;01mfor\u001b[39;00m i \u001b[38;5;129;01min\u001b[39;00m \u001b[38;5;28mrange\u001b[39m(start, end \u001b[38;5;241m+\u001b[39m \u001b[38;5;241m1\u001b[39m):\n\u001b[0;32m    269\u001b[0m     child[i] \u001b[38;5;241m=\u001b[39m parent1[i]\n\u001b[1;32m--> 271\u001b[0m remaining \u001b[38;5;241m=\u001b[39m \u001b[43m[\u001b[49m\u001b[43mitem\u001b[49m\u001b[43m \u001b[49m\u001b[38;5;28;43;01mfor\u001b[39;49;00m\u001b[43m \u001b[49m\u001b[43mitem\u001b[49m\u001b[43m \u001b[49m\u001b[38;5;129;43;01min\u001b[39;49;00m\u001b[43m \u001b[49m\u001b[43mparent2\u001b[49m\u001b[43m \u001b[49m\u001b[38;5;28;43;01mif\u001b[39;49;00m\u001b[43m \u001b[49m\u001b[43mitem\u001b[49m\u001b[43m \u001b[49m\u001b[38;5;129;43;01mnot\u001b[39;49;00m\u001b[43m \u001b[49m\u001b[38;5;129;43;01min\u001b[39;49;00m\u001b[43m \u001b[49m\u001b[43mchild\u001b[49m\u001b[43m]\u001b[49m\n\u001b[0;32m    272\u001b[0m ptr \u001b[38;5;241m=\u001b[39m \u001b[38;5;241m0\u001b[39m\n\u001b[0;32m    273\u001b[0m \u001b[38;5;28;01mfor\u001b[39;00m i \u001b[38;5;129;01min\u001b[39;00m \u001b[38;5;28mrange\u001b[39m(\u001b[38;5;28mlen\u001b[39m(parent1)):\n",
      "File \u001b[1;32md:\\OneDrive\\Documentos\\ITAM\\10-semestre\\ido\\proyecto-01\\02-tsp\\tspheuristics.py:271\u001b[0m, in \u001b[0;36m<listcomp>\u001b[1;34m(.0)\u001b[0m\n\u001b[0;32m    268\u001b[0m \u001b[38;5;28;01mfor\u001b[39;00m i \u001b[38;5;129;01min\u001b[39;00m \u001b[38;5;28mrange\u001b[39m(start, end \u001b[38;5;241m+\u001b[39m \u001b[38;5;241m1\u001b[39m):\n\u001b[0;32m    269\u001b[0m     child[i] \u001b[38;5;241m=\u001b[39m parent1[i]\n\u001b[1;32m--> 271\u001b[0m remaining \u001b[38;5;241m=\u001b[39m [item \u001b[38;5;28;01mfor\u001b[39;00m item \u001b[38;5;129;01min\u001b[39;00m parent2 \u001b[38;5;28;01mif\u001b[39;00m item \u001b[38;5;129;01mnot\u001b[39;00m \u001b[38;5;129;01min\u001b[39;00m child]\n\u001b[0;32m    272\u001b[0m ptr \u001b[38;5;241m=\u001b[39m \u001b[38;5;241m0\u001b[39m\n\u001b[0;32m    273\u001b[0m \u001b[38;5;28;01mfor\u001b[39;00m i \u001b[38;5;129;01min\u001b[39;00m \u001b[38;5;28mrange\u001b[39m(\u001b[38;5;28mlen\u001b[39m(parent1)):\n",
      "\u001b[1;31mKeyboardInterrupt\u001b[0m: "
     ]
    }
   ],
   "source": [
    "gen1.solve()\n",
    "gen1.cost"
   ]
  },
  {
   "cell_type": "code",
   "execution_count": null,
   "metadata": {},
   "outputs": [],
   "source": [
    "np.savetxt(\"out/gen-algo-big-instance.txt\", gen1.res)"
   ]
  },
  {
   "cell_type": "code",
   "execution_count": null,
   "metadata": {},
   "outputs": [],
   "source": [
    "utils.plot_sol(cities,gen1.res)"
   ]
  },
  {
   "cell_type": "markdown",
   "metadata": {},
   "source": [
    "# Evaluación de las instancias con programación lineal"
   ]
  },
  {
   "cell_type": "code",
   "execution_count": null,
   "metadata": {},
   "outputs": [],
   "source": [
    "inst = 'Inst48'\n",
    "cities = utils.read_instance(f'{inst}.txt')\n",
    "tsp_inst = utils.dist_mat(cities)\n",
    "mymip = LinProg(tsp_inst)"
   ]
  },
  {
   "cell_type": "code",
   "execution_count": null,
   "metadata": {},
   "outputs": [],
   "source": [
    "start = time.time()\n",
    "mymip.solve()\n",
    "end = time.time()\n",
    "print(f\"Solución a instancia {inst} con programación lineal: {mymip.cost}; {end-start} segundos\")"
   ]
  },
  {
   "cell_type": "code",
   "execution_count": null,
   "metadata": {},
   "outputs": [],
   "source": [
    "utils.plot_sol(cities, mymip.res, savefig=f\"lp-{inst}-sol.png\")"
   ]
  }
 ],
 "metadata": {
  "kernelspec": {
   "display_name": "tsp-env",
   "language": "python",
   "name": "python3"
  },
  "language_info": {
   "codemirror_mode": {
    "name": "ipython",
    "version": 3
   },
   "file_extension": ".py",
   "mimetype": "text/x-python",
   "name": "python",
   "nbconvert_exporter": "python",
   "pygments_lexer": "ipython3",
   "version": "3.11.1"
  }
 },
 "nbformat": 4,
 "nbformat_minor": 2
}
