{
 "cells": [
  {
   "cell_type": "code",
   "execution_count": 1,
   "metadata": {},
   "outputs": [],
   "source": [
    "import numpy as np\n",
    "import utils\n",
    "import os\n",
    "from tspheuristics import NearestNeigbour, GenAlgo, LinProg\n",
    "import time"
   ]
  },
  {
   "cell_type": "code",
   "execution_count": null,
   "metadata": {},
   "outputs": [],
   "source": [
    "# Probar con todas las intancias.\n",
    "for filename in os.listdir('instances/'):\n",
    "    cities = utils.read_instance(filename)\n",
    "    tsp_inst = utils.dist_mat(cities)\n",
    "    nn = NearestNeigbour(tsp_inst)\n",
    "    gen = GenAlgo(tsp_inst, pop_size=len(cities)*2)\n",
    "    lp = LinProg(tsp_inst)\n",
    "\n",
    "    # Resolver\n",
    "    # if len(cities) < 60:\n",
    "    #     start = time.time()\n",
    "    #     lp.solve(verbose=False)\n",
    "    #     end = time.time()\n",
    "    #     print(f\"Solución a instancia {filename} con programación lineal: {lp.cost}; {end-start} segundos\")\n",
    "    #     utils.plot_sol(cities, lp.res, savefig=f\"lp-{filename.replace('.txt','')}-sol.png\")\n",
    "    # else:\n",
    "    #     print(f\"Solución a instancia {filename} con programación lineal: -; - segundos\")\n",
    "\n",
    "    start = time.time_ns()\n",
    "    nn.solve(start=0, verbose=False)\n",
    "    end = time.time_ns()\n",
    "    print(f\"Solución a instancia {filename} con NN: {nn.cost}; {end-start} nanosegundos\")\n",
    "    utils.plot_sol(cities, nn.res, savefig=f\"nn-{filename.replace('.txt','')}-sol.png\")\n",
    "    \n",
    "    start = time.time()\n",
    "    gen.solve(verbose=False)\n",
    "    end = time.time()\n",
    "    print(f\"Solución a instancia {filename} con GenAlgo: {gen.cost}; {end-start} segundos\")\n",
    "    utils.plot_sol(cities, gen.res, savefig=f\"gen-{filename.replace('.txt','')}-sol.png\")\n",
    "    "
   ]
  },
  {
   "cell_type": "markdown",
   "metadata": {},
   "source": [
    "## Ejemplo de uso"
   ]
  },
  {
   "cell_type": "code",
   "execution_count": 2,
   "metadata": {},
   "outputs": [],
   "source": [
    "cities = utils.read_instance('Inst48.txt')\n",
    "tsp_inst = utils.dist_mat(cities)"
   ]
  },
  {
   "cell_type": "code",
   "execution_count": 3,
   "metadata": {},
   "outputs": [],
   "source": [
    "mip1 = LinProg(tsp_inst)\n",
    "# nn1 = NearestNeigbour(tsp_inst)\n",
    "# gen1 = GenAlgo(tsp_inst)"
   ]
  },
  {
   "cell_type": "code",
   "execution_count": 4,
   "metadata": {},
   "outputs": [],
   "source": [
    "mip1.solve()"
   ]
  },
  {
   "cell_type": "code",
   "execution_count": null,
   "metadata": {},
   "outputs": [],
   "source": [
    "nn1.solve(start=0)"
   ]
  },
  {
   "cell_type": "code",
   "execution_count": null,
   "metadata": {},
   "outputs": [],
   "source": [
    "gen1.solve(verbose=False)\n",
    "gen1.cost"
   ]
  },
  {
   "cell_type": "code",
   "execution_count": null,
   "metadata": {},
   "outputs": [],
   "source": [
    "utils.plot_sol(cities, mip1.res, savefig=\"lp-Inst48-sol.png\")"
   ]
  },
  {
   "cell_type": "code",
   "execution_count": null,
   "metadata": {},
   "outputs": [],
   "source": [
    "utils.plot_sol(cities,nn1.res)"
   ]
  },
  {
   "cell_type": "code",
   "execution_count": null,
   "metadata": {},
   "outputs": [],
   "source": [
    "utils.plot_sol(cities,gen1.res)"
   ]
  },
  {
   "cell_type": "code",
   "execution_count": null,
   "metadata": {},
   "outputs": [],
   "source": []
  }
 ],
 "metadata": {
  "kernelspec": {
   "display_name": "tsp-env",
   "language": "python",
   "name": "python3"
  },
  "language_info": {
   "codemirror_mode": {
    "name": "ipython",
    "version": 3
   },
   "file_extension": ".py",
   "mimetype": "text/x-python",
   "name": "python",
   "nbconvert_exporter": "python",
   "pygments_lexer": "ipython3",
   "version": "3.11.1"
  }
 },
 "nbformat": 4,
 "nbformat_minor": 2
}
